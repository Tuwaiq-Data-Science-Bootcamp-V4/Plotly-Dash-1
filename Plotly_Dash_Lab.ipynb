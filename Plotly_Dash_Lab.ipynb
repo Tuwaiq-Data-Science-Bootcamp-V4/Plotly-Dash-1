{
 "cells": [
  {
   "cell_type": "markdown",
   "metadata": {},
   "source": [
    "# Q0: import dash standard libraries"
   ]
  },
  {
   "cell_type": "code",
   "execution_count": 1,
   "metadata": {},
   "outputs": [],
   "source": [
    "from dash import Dash, dcc, html, Input, Output\n",
    "from jupyter_dash import JupyterDash\n",
    "import warnings\n",
    "warnings.filterwarnings(\"ignore\")"
   ]
  },
  {
   "cell_type": "markdown",
   "metadata": {},
   "source": [
    "# Q1: Make dash that prints \"Data Science\""
   ]
  },
  {
   "cell_type": "code",
   "execution_count": 2,
   "metadata": {},
   "outputs": [],
   "source": [
    "# app = JupyterDash()\n",
    "\n",
    "# DataSci = html.H1(\"DataScience\")\n",
    "# app.layout= DataSci\n",
    "# app.run_server(port='3000')"
   ]
  },
  {
   "cell_type": "markdown",
   "metadata": {},
   "source": [
    "# Q2: Make dash that takes name input and outpt \"Welcome to Data Science dashboard {name}\""
   ]
  },
  {
   "cell_type": "code",
   "execution_count": 3,
   "metadata": {},
   "outputs": [],
   "source": [
    "# app = JupyterDash()\n",
    "# app.layout = html.Div([\n",
    "#     html.H1(\"Welcome Sentence\"),\n",
    "#     html.Div([\n",
    "#         html.Label(\"Name: \"),\n",
    "#         dcc.Input(id=\"name-input\", type=\"text\", placeholder=\"Enter your name\"),\n",
    "\n",
    "#     ]),\n",
    "#     html.Div(id=\"output\")\n",
    "# ])\n",
    "\n",
    "# @app.callback(\n",
    "#     Output(\"output\", \"children\"),\n",
    "#     Input(\"name-input\", \"value\"),\n",
    "# )\n",
    "# def update_output(name):\n",
    "#     return f\"Welcome to the Data Science Dashboard, {name}!\""
   ]
  },
  {
   "cell_type": "markdown",
   "metadata": {},
   "source": [
    "# Q3: Make Plotly-Dash that takes two inputs (numbers) and output 3 numbers x, y , z= x+y\n",
    "- hint: use html.Div, dcc.Input(type='number')"
   ]
  },
  {
   "cell_type": "code",
   "execution_count": 4,
   "metadata": {},
   "outputs": [],
   "source": [
    "# app = JupyterDash()\n",
    "# app.layout = html.Div([\n",
    "#     html.H1(\"Numbers\"),\n",
    "#     html.Div([\n",
    "#         html.Label(\"Number1: \"),\n",
    "#         dcc.Input(id=\"input1\", type=\"number\",value=0, placeholder=\"Enter number x: \"),\n",
    "#         html.Label(\"Number2: \"),\n",
    "#         dcc.Input(id=\"input2\", type=\"number\",value=0, placeholder=\"Enter number y: \"),\n",
    "        \n",
    "#     ]),\n",
    "#     html.Div(id=\"output\")\n",
    "# ])\n",
    "\n",
    "# @app.callback(\n",
    "#     Output(\"output\", \"children\"),\n",
    "#     Input(\"input1\", \"value\"),\n",
    "#     Input(\"input2\", \"value\")\n",
    "# )\n",
    "# def calc_sum(input1, input2):\n",
    "#     return f\"{input1+input2} = {input1} + {input2}\"\n",
    "\n",
    "# app.run_server(port='3001')"
   ]
  },
  {
   "cell_type": "markdown",
   "metadata": {},
   "source": [
    "# Q4.1: Make JubyterDash with Rangeslider from 1-15 with 6 option"
   ]
  },
  {
   "cell_type": "code",
   "execution_count": 5,
   "metadata": {},
   "outputs": [],
   "source": [
    "# app = JupyterDash()\n",
    "# app.layout = html.Div([\n",
    "#     dcc.RangeSlider(1,15,3,id=\"range-slider\"),\n",
    "#     html.Div(id=\"output\")\n",
    "# ])\n",
    "\n",
    "# @app.callback(\n",
    "#     Output(\"output\", \"children\"),\n",
    "#     Input(\"range-slider\", \"value\")\n",
    "# )\n",
    "# def update_output(value):\n",
    "#     return html.H2(f\"Selected value: {value[0]}to{value[1]}\")\n",
    "# app.run_server(port='3001')"
   ]
  },
  {
   "cell_type": "markdown",
   "metadata": {},
   "source": [
    "# Q4.2: add to the previous dash: Label, set default value on rangeslider as 7-10"
   ]
  },
  {
   "cell_type": "code",
   "execution_count": 6,
   "metadata": {},
   "outputs": [],
   "source": [
    "# app = JupyterDash()\n",
    "# app.layout = html.Div([\n",
    "#     html.Label(\"Range Value\"),\n",
    "#     dcc.RangeSlider(1,15,3,id=\"range-slider\", value=[7,10]),\n",
    "#     html.Div(id=\"output\")\n",
    "# ])\n",
    "\n",
    "# @app.callback(\n",
    "#     Output(\"output\", \"children\"),\n",
    "#     Input(\"range-slider\", \"value\")\n",
    "# )\n",
    "# def update_output(value):\n",
    "#     return html.H2(f\"Selected value: {value[0]} to {value[1]} \")\n",
    "# app.run_server(port='3001')"
   ]
  },
  {
   "cell_type": "markdown",
   "metadata": {},
   "source": [
    "# Q5: Make 3 different Dcc types (Dropdown - Checkbox...) in one dash"
   ]
  },
  {
   "cell_type": "code",
   "execution_count": 7,
   "metadata": {},
   "outputs": [],
   "source": [
    "# from datetime import date\n",
    "# app = JupyterDash()\n",
    "# app.layout = html.Div([\n",
    "#     dcc.Dropdown(['Rayan', 'Khalid', 'Anwar'], 'Rayan', id='demo-dropdown'),\n",
    "#     dcc.Checklist(['Rayan', 'Khalid', 'Anwar'], id='demo-box'),\n",
    "#     dcc.DatePickerRange(\n",
    "#     id='date-picker',\n",
    "#     min_date_allowed=date(1995, 8, 5),\n",
    "#     max_date_allowed=date(2023, 8, 17),\n",
    "#     initial_visible_month=date(2017, 8, 5),\n",
    "#     end_date=date(2017, 8, 25)\n",
    "#     ),\n",
    "# ])\n",
    "\n",
    "# @app.callback(\n",
    "#     Output(\"output\", \"children\"),\n",
    "#     Input(\"demo-dropdown\", \"value\"),\n",
    "#     Input(\"demo-box\", \"value\"),\n",
    "#     Input(\"date-picker\", \"value\"),\n",
    "# )\n",
    "# def update_output(demoDropdown, demoBox, datePicker):\n",
    "#     return html.H2(f\"Selected value: Dropdown: {demoDropdown}. Chiklist: {demoBox}. Date:{datePicker}.\")\n",
    "# app.run_server(port='3001')"
   ]
  },
  {
   "cell_type": "markdown",
   "metadata": {},
   "source": [
    "# Q6: Make Plotly chart, then add it to a plotly_dash"
   ]
  },
  {
   "cell_type": "code",
   "execution_count": 8,
   "metadata": {},
   "outputs": [],
   "source": [
    "import plotly.express as px"
   ]
  },
  {
   "cell_type": "code",
   "execution_count": 9,
   "metadata": {},
   "outputs": [],
   "source": [
    "# app = JupyterDash()\n",
    "# plotChart = px.line( x=[1,2,3,5,7,9],y=[1,3,6,8,9,11])\n",
    "\n",
    "# app.layout = html.Div([\n",
    "#     dcc.Graph(figure = plotChart, id='figureIs')\n",
    "# ])\n",
    "\n",
    "\n",
    "# app.run_server(port='3001')"
   ]
  },
  {
   "cell_type": "markdown",
   "metadata": {},
   "source": [
    "# Q7: From our data make plotly-dash with suitble chart, and Dropdown.\n",
    "\n",
    "- Dropdown should contain at least 3 options, each one represents different column.\n",
    "- Add label to dropdown.\n",
    "- The chart data should change depending on the selected dropdown option."
   ]
  },
  {
   "cell_type": "code",
   "execution_count": 10,
   "metadata": {},
   "outputs": [],
   "source": [
    "import pandas as pd\n",
    "df = pd.read_csv(\"titanic passenger list.csv\")"
   ]
  },
  {
   "cell_type": "code",
   "execution_count": 11,
   "metadata": {
    "scrolled": true
   },
   "outputs": [
    {
     "data": {
      "text/html": [
       "<div>\n",
       "<style scoped>\n",
       "    .dataframe tbody tr th:only-of-type {\n",
       "        vertical-align: middle;\n",
       "    }\n",
       "\n",
       "    .dataframe tbody tr th {\n",
       "        vertical-align: top;\n",
       "    }\n",
       "\n",
       "    .dataframe thead th {\n",
       "        text-align: right;\n",
       "    }\n",
       "</style>\n",
       "<table border=\"1\" class=\"dataframe\">\n",
       "  <thead>\n",
       "    <tr style=\"text-align: right;\">\n",
       "      <th></th>\n",
       "      <th>pclass</th>\n",
       "      <th>survived</th>\n",
       "      <th>name</th>\n",
       "      <th>sex</th>\n",
       "      <th>age</th>\n",
       "      <th>sibsp</th>\n",
       "      <th>parch</th>\n",
       "      <th>ticket</th>\n",
       "      <th>fare</th>\n",
       "      <th>cabin</th>\n",
       "      <th>embarked</th>\n",
       "      <th>boat</th>\n",
       "      <th>body</th>\n",
       "      <th>home.dest</th>\n",
       "    </tr>\n",
       "  </thead>\n",
       "  <tbody>\n",
       "    <tr>\n",
       "      <th>0</th>\n",
       "      <td>1.0</td>\n",
       "      <td>1.0</td>\n",
       "      <td>Allen, Miss. Elisabeth Walton</td>\n",
       "      <td>female</td>\n",
       "      <td>29.0</td>\n",
       "      <td>0.0</td>\n",
       "      <td>0.0</td>\n",
       "      <td>24160</td>\n",
       "      <td>211.3375</td>\n",
       "      <td>B5</td>\n",
       "      <td>S</td>\n",
       "      <td>2</td>\n",
       "      <td>NaN</td>\n",
       "      <td>St Louis, MO</td>\n",
       "    </tr>\n",
       "    <tr>\n",
       "      <th>1</th>\n",
       "      <td>1.0</td>\n",
       "      <td>1.0</td>\n",
       "      <td>Allison, Master. Hudson Trevor</td>\n",
       "      <td>male</td>\n",
       "      <td>1.0</td>\n",
       "      <td>1.0</td>\n",
       "      <td>2.0</td>\n",
       "      <td>113781</td>\n",
       "      <td>151.5500</td>\n",
       "      <td>C22 C26</td>\n",
       "      <td>S</td>\n",
       "      <td>11</td>\n",
       "      <td>NaN</td>\n",
       "      <td>Montreal, PQ / Chesterville, ON</td>\n",
       "    </tr>\n",
       "    <tr>\n",
       "      <th>2</th>\n",
       "      <td>1.0</td>\n",
       "      <td>0.0</td>\n",
       "      <td>Allison, Miss. Helen Loraine</td>\n",
       "      <td>female</td>\n",
       "      <td>2.0</td>\n",
       "      <td>1.0</td>\n",
       "      <td>2.0</td>\n",
       "      <td>113781</td>\n",
       "      <td>151.5500</td>\n",
       "      <td>C22 C26</td>\n",
       "      <td>S</td>\n",
       "      <td>NaN</td>\n",
       "      <td>NaN</td>\n",
       "      <td>Montreal, PQ / Chesterville, ON</td>\n",
       "    </tr>\n",
       "    <tr>\n",
       "      <th>3</th>\n",
       "      <td>1.0</td>\n",
       "      <td>0.0</td>\n",
       "      <td>Allison, Mr. Hudson Joshua Creighton</td>\n",
       "      <td>male</td>\n",
       "      <td>30.0</td>\n",
       "      <td>1.0</td>\n",
       "      <td>2.0</td>\n",
       "      <td>113781</td>\n",
       "      <td>151.5500</td>\n",
       "      <td>C22 C26</td>\n",
       "      <td>S</td>\n",
       "      <td>NaN</td>\n",
       "      <td>135.0</td>\n",
       "      <td>Montreal, PQ / Chesterville, ON</td>\n",
       "    </tr>\n",
       "    <tr>\n",
       "      <th>4</th>\n",
       "      <td>1.0</td>\n",
       "      <td>0.0</td>\n",
       "      <td>Allison, Mrs. Hudson J C (Bessie Waldo Daniels)</td>\n",
       "      <td>female</td>\n",
       "      <td>25.0</td>\n",
       "      <td>1.0</td>\n",
       "      <td>2.0</td>\n",
       "      <td>113781</td>\n",
       "      <td>151.5500</td>\n",
       "      <td>C22 C26</td>\n",
       "      <td>S</td>\n",
       "      <td>NaN</td>\n",
       "      <td>NaN</td>\n",
       "      <td>Montreal, PQ / Chesterville, ON</td>\n",
       "    </tr>\n",
       "    <tr>\n",
       "      <th>...</th>\n",
       "      <td>...</td>\n",
       "      <td>...</td>\n",
       "      <td>...</td>\n",
       "      <td>...</td>\n",
       "      <td>...</td>\n",
       "      <td>...</td>\n",
       "      <td>...</td>\n",
       "      <td>...</td>\n",
       "      <td>...</td>\n",
       "      <td>...</td>\n",
       "      <td>...</td>\n",
       "      <td>...</td>\n",
       "      <td>...</td>\n",
       "      <td>...</td>\n",
       "    </tr>\n",
       "    <tr>\n",
       "      <th>1304</th>\n",
       "      <td>3.0</td>\n",
       "      <td>0.0</td>\n",
       "      <td>Zabour, Miss. Hileni</td>\n",
       "      <td>female</td>\n",
       "      <td>15.0</td>\n",
       "      <td>1.0</td>\n",
       "      <td>0.0</td>\n",
       "      <td>2665</td>\n",
       "      <td>14.4542</td>\n",
       "      <td>NaN</td>\n",
       "      <td>C</td>\n",
       "      <td>NaN</td>\n",
       "      <td>328.0</td>\n",
       "      <td>NaN</td>\n",
       "    </tr>\n",
       "    <tr>\n",
       "      <th>1305</th>\n",
       "      <td>3.0</td>\n",
       "      <td>0.0</td>\n",
       "      <td>Zabour, Miss. Thamine</td>\n",
       "      <td>female</td>\n",
       "      <td>NaN</td>\n",
       "      <td>1.0</td>\n",
       "      <td>0.0</td>\n",
       "      <td>2665</td>\n",
       "      <td>14.4542</td>\n",
       "      <td>NaN</td>\n",
       "      <td>C</td>\n",
       "      <td>NaN</td>\n",
       "      <td>NaN</td>\n",
       "      <td>NaN</td>\n",
       "    </tr>\n",
       "    <tr>\n",
       "      <th>1306</th>\n",
       "      <td>3.0</td>\n",
       "      <td>0.0</td>\n",
       "      <td>Zakarian, Mr. Mapriededer</td>\n",
       "      <td>male</td>\n",
       "      <td>27.0</td>\n",
       "      <td>0.0</td>\n",
       "      <td>0.0</td>\n",
       "      <td>2656</td>\n",
       "      <td>7.2250</td>\n",
       "      <td>NaN</td>\n",
       "      <td>C</td>\n",
       "      <td>NaN</td>\n",
       "      <td>304.0</td>\n",
       "      <td>NaN</td>\n",
       "    </tr>\n",
       "    <tr>\n",
       "      <th>1307</th>\n",
       "      <td>3.0</td>\n",
       "      <td>0.0</td>\n",
       "      <td>Zakarian, Mr. Ortin</td>\n",
       "      <td>male</td>\n",
       "      <td>27.0</td>\n",
       "      <td>0.0</td>\n",
       "      <td>0.0</td>\n",
       "      <td>2670</td>\n",
       "      <td>7.2250</td>\n",
       "      <td>NaN</td>\n",
       "      <td>C</td>\n",
       "      <td>NaN</td>\n",
       "      <td>NaN</td>\n",
       "      <td>NaN</td>\n",
       "    </tr>\n",
       "    <tr>\n",
       "      <th>1308</th>\n",
       "      <td>3.0</td>\n",
       "      <td>0.0</td>\n",
       "      <td>Zimmerman, Mr. Leo</td>\n",
       "      <td>male</td>\n",
       "      <td>29.0</td>\n",
       "      <td>0.0</td>\n",
       "      <td>0.0</td>\n",
       "      <td>315082</td>\n",
       "      <td>7.8750</td>\n",
       "      <td>NaN</td>\n",
       "      <td>S</td>\n",
       "      <td>NaN</td>\n",
       "      <td>NaN</td>\n",
       "      <td>NaN</td>\n",
       "    </tr>\n",
       "  </tbody>\n",
       "</table>\n",
       "<p>1309 rows × 14 columns</p>\n",
       "</div>"
      ],
      "text/plain": [
       "      pclass  survived                                             name  \\\n",
       "0        1.0       1.0                    Allen, Miss. Elisabeth Walton   \n",
       "1        1.0       1.0                   Allison, Master. Hudson Trevor   \n",
       "2        1.0       0.0                     Allison, Miss. Helen Loraine   \n",
       "3        1.0       0.0             Allison, Mr. Hudson Joshua Creighton   \n",
       "4        1.0       0.0  Allison, Mrs. Hudson J C (Bessie Waldo Daniels)   \n",
       "...      ...       ...                                              ...   \n",
       "1304     3.0       0.0                             Zabour, Miss. Hileni   \n",
       "1305     3.0       0.0                            Zabour, Miss. Thamine   \n",
       "1306     3.0       0.0                        Zakarian, Mr. Mapriededer   \n",
       "1307     3.0       0.0                              Zakarian, Mr. Ortin   \n",
       "1308     3.0       0.0                               Zimmerman, Mr. Leo   \n",
       "\n",
       "         sex   age  sibsp  parch  ticket      fare    cabin embarked boat  \\\n",
       "0     female  29.0    0.0    0.0   24160  211.3375       B5        S    2   \n",
       "1       male   1.0    1.0    2.0  113781  151.5500  C22 C26        S   11   \n",
       "2     female   2.0    1.0    2.0  113781  151.5500  C22 C26        S  NaN   \n",
       "3       male  30.0    1.0    2.0  113781  151.5500  C22 C26        S  NaN   \n",
       "4     female  25.0    1.0    2.0  113781  151.5500  C22 C26        S  NaN   \n",
       "...      ...   ...    ...    ...     ...       ...      ...      ...  ...   \n",
       "1304  female  15.0    1.0    0.0    2665   14.4542      NaN        C  NaN   \n",
       "1305  female   NaN    1.0    0.0    2665   14.4542      NaN        C  NaN   \n",
       "1306    male  27.0    0.0    0.0    2656    7.2250      NaN        C  NaN   \n",
       "1307    male  27.0    0.0    0.0    2670    7.2250      NaN        C  NaN   \n",
       "1308    male  29.0    0.0    0.0  315082    7.8750      NaN        S  NaN   \n",
       "\n",
       "       body                        home.dest  \n",
       "0       NaN                     St Louis, MO  \n",
       "1       NaN  Montreal, PQ / Chesterville, ON  \n",
       "2       NaN  Montreal, PQ / Chesterville, ON  \n",
       "3     135.0  Montreal, PQ / Chesterville, ON  \n",
       "4       NaN  Montreal, PQ / Chesterville, ON  \n",
       "...     ...                              ...  \n",
       "1304  328.0                              NaN  \n",
       "1305    NaN                              NaN  \n",
       "1306  304.0                              NaN  \n",
       "1307    NaN                              NaN  \n",
       "1308    NaN                              NaN  \n",
       "\n",
       "[1309 rows x 14 columns]"
      ]
     },
     "execution_count": 11,
     "metadata": {},
     "output_type": "execute_result"
    }
   ],
   "source": [
    "df"
   ]
  },
  {
   "cell_type": "code",
   "execution_count": 12,
   "metadata": {},
   "outputs": [
    {
     "name": "stdout",
     "output_type": "stream",
     "text": [
      "<class 'pandas.core.frame.DataFrame'>\n",
      "RangeIndex: 1309 entries, 0 to 1308\n",
      "Data columns (total 14 columns):\n",
      " #   Column     Non-Null Count  Dtype  \n",
      "---  ------     --------------  -----  \n",
      " 0   pclass     1305 non-null   float64\n",
      " 1   survived   1305 non-null   float64\n",
      " 2   name       1305 non-null   object \n",
      " 3   sex        1305 non-null   object \n",
      " 4   age        1046 non-null   float64\n",
      " 5   sibsp      1305 non-null   float64\n",
      " 6   parch      1305 non-null   float64\n",
      " 7   ticket     1305 non-null   object \n",
      " 8   fare       1304 non-null   float64\n",
      " 9   cabin      292 non-null    object \n",
      " 10  embarked   1303 non-null   object \n",
      " 11  boat       484 non-null    object \n",
      " 12  body       121 non-null    float64\n",
      " 13  home.dest  741 non-null    object \n",
      "dtypes: float64(7), object(7)\n",
      "memory usage: 143.3+ KB\n"
     ]
    }
   ],
   "source": [
    "df.info()"
   ]
  },
  {
   "cell_type": "code",
   "execution_count": 13,
   "metadata": {},
   "outputs": [],
   "source": [
    "# app = JupyterDash()\n",
    "# app.layout = html.Div([\n",
    "#     html.Label(\"Choose Chart: \"),\n",
    "#     dcc.Dropdown(id='dropdownlist', options=[\n",
    "#         {'label': 'Parch', 'value': 'parch'},\n",
    "#         {'label': 'Fare', 'value': 'fare'},\n",
    "#         {'label': 'Survived', 'value': 'survived'}\n",
    "#     ],\n",
    "#                  value = \"parch\"\n",
    "#                 ),\n",
    "#     html.Div([\n",
    "#         dcc.Graph(id=\"chart\")\n",
    "#     ])\n",
    "# ])\n",
    "# @app.callback(\n",
    "    \n",
    "#     Output('chart', 'figure'),\n",
    "#     [Input('dropdownlist', 'value')]\n",
    "# )\n",
    "# def chosen_fig(figName):\n",
    "#     fig = px.histogram(df, x=figName, color=\"sex\", category_orders={'sex':['male', 'female']})\n",
    "#     return fig\n",
    "# app.run_server(port='3001')"
   ]
  },
  {
   "cell_type": "markdown",
   "metadata": {},
   "source": [
    "# Q8: add 2 more charts to the prevoius Ploty-Dash"
   ]
  },
  {
   "cell_type": "code",
   "execution_count": 14,
   "metadata": {},
   "outputs": [],
   "source": [
    "# app = JupyterDash()\n",
    "# app.layout = html.Div([\n",
    "#     html.Label(\"Choose Chart: \"),\n",
    "#     dcc.Dropdown(id='dropdownlist', options=[\n",
    "#         {'label': 'Parch', 'value': 'parch'},\n",
    "#         {'label': 'Fare', 'value': 'fare'},\n",
    "#         {'label': 'Survived', 'value': 'survived'}\n",
    "#     ],\n",
    "#                  value = \"parch\"\n",
    "#                 ),\n",
    "#     html.Div([\n",
    "#         dcc.Graph(id=\"chart\"),\n",
    "#         dcc.Graph(id=\"chart2\"),\n",
    "#         dcc.Graph(id=\"chart3\"),\n",
    "        \n",
    "#     ])\n",
    "# ])\n",
    "# @app.callback(\n",
    "    \n",
    "#     Output('chart', 'figure'),\n",
    "#     Output('chart2', 'figure'),\n",
    "#     Output('chart3', 'figure'),\n",
    "#     [Input('dropdownlist', 'value')]\n",
    "# )\n",
    "# def chosen_fig(figName):\n",
    "#     fig = px.histogram(df, x=figName, color=\"sex\", category_orders={'sex':['male', 'female']})\n",
    "#     fig1 = px.scatter(df, x=figName, y=\"age\", color=\"sex\", category_orders={'sex':['male', 'female']})\n",
    "#     fig2 = px.bar(df, x=figName, y=\"age\", color=\"sex\", category_orders={'sex':['male', 'female']})\n",
    "#     return fig, fig1, fig2\n",
    "# app.run_server(port='3001')"
   ]
  },
  {
   "cell_type": "markdown",
   "metadata": {},
   "source": [
    "# Q9: Search for \"Plotly Gallery\" and fetch for a graph and use it with our data.\n",
    "\n",
    "- Note: You need to put the resourse addres of fetched your grapth."
   ]
  },
  {
   "cell_type": "code",
   "execution_count": 15,
   "metadata": {
    "scrolled": false
   },
   "outputs": [
    {
     "data": {
      "text/html": [
       "\n",
       "        <iframe\n",
       "            width=\"100%\"\n",
       "            height=\"650\"\n",
       "            src=\"http://127.0.0.1:3000/\"\n",
       "            frameborder=\"0\"\n",
       "            allowfullscreen\n",
       "            \n",
       "        ></iframe>\n",
       "        "
      ],
      "text/plain": [
       "<IPython.lib.display.IFrame at 0x201f7ef2fd0>"
      ]
     },
     "metadata": {},
     "output_type": "display_data"
    },
    {
     "name": "stdout",
     "output_type": "stream",
     "text": [
      "Dash app running on http://127.0.0.1:3000/\n"
     ]
    }
   ],
   "source": [
    "# resourse : https://plotly.com/python/axes/\n",
    "import plotly.express as px\n",
    "\n",
    "app = JupyterDash()\n",
    "\n",
    "\n",
    "app.layout = html.Div([\n",
    "    html.H4('Interactive Plotly Express axes'),\n",
    "    html.Button(\"Rotate labels\", n_clicks=0, \n",
    "                id='button'),\n",
    "    dcc.Graph(id=\"graph\"),\n",
    "])\n",
    "\n",
    "\n",
    "@app.callback(\n",
    "    Output(\"graph\", \"figure\"), \n",
    "    Input(\"button\", \"n_clicks\"))\n",
    "def rotate_figure(n_clicks):\n",
    "    fig = px.histogram(df, x=\"sex\", color=\"sex\", category_orders={'sex':['male']})\n",
    "    fig.update_xaxes(tickangle=n_clicks*45)\n",
    "    return fig\n",
    "\n",
    "\n",
    "app.run_server(port=\"3000\")"
   ]
  },
  {
   "cell_type": "markdown",
   "metadata": {},
   "source": [
    "# Challenge 1.1: Create Plotly dash with two charts depends on different columns of the data\n",
    "- First Chart : Pie\n",
    "- Secound Chart: is by your Choice ( Not Pie )"
   ]
  },
  {
   "cell_type": "code",
   "execution_count": null,
   "metadata": {},
   "outputs": [],
   "source": []
  },
  {
   "cell_type": "markdown",
   "metadata": {},
   "source": [
    "# Challenge 1.2: Make Hovering over a slice of the pie changes the data for the second chart depending on what the slice is."
   ]
  },
  {
   "cell_type": "code",
   "execution_count": null,
   "metadata": {},
   "outputs": [],
   "source": []
  }
 ],
 "metadata": {
  "kernelspec": {
   "display_name": "Python 3 (ipykernel)",
   "language": "python",
   "name": "python3"
  },
  "language_info": {
   "codemirror_mode": {
    "name": "ipython",
    "version": 3
   },
   "file_extension": ".py",
   "mimetype": "text/x-python",
   "name": "python",
   "nbconvert_exporter": "python",
   "pygments_lexer": "ipython3",
   "version": "3.11.4"
  }
 },
 "nbformat": 4,
 "nbformat_minor": 2
}
