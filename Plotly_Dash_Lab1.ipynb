{
 "cells": [
  {
   "cell_type": "markdown",
   "metadata": {},
   "source": [
    "# Q0: import dash standard libraries"
   ]
  },
  {
   "cell_type": "code",
   "execution_count": null,
   "metadata": {},
   "outputs": [],
   "source": [
    "from dash import Dash, dcc, html, Input, Output, State\n",
    "from jupyter_dash import JupyterDash\n",
    "import dash_bootstrap_components as dbc\n",
    "import plotly.express as px\n",
    "import pandas as pd\n",
    "import random\n",
    "import warnings\n",
    "warnings.filterwarnings(\"ignore\")"
   ]
  },
  {
   "cell_type": "code",
   "execution_count": null,
   "metadata": {},
   "outputs": [],
   "source": [
    "app = JupyterDash(external_stylesheets=[dbc.themes.SPACELAB, dbc.icons.BOOTSTRAP])"
   ]
  },
  {
   "cell_type": "markdown",
   "metadata": {},
   "source": [
    "# Q1: Make dash that prints \"Data Science\""
   ]
  },
  {
   "cell_type": "code",
   "execution_count": null,
   "metadata": {},
   "outputs": [],
   "source": [
    "# Title = html.H2(\"Data Science\", className='text-Success')\n",
    "card = dbc.Card(\n",
    "    dbc.CardBody(\n",
    "        [\n",
    "            html.H1(\"Data Science\", className=\"card-title\"),\n",
    "        ]\n",
    "    ),   \n",
    ")\n",
    "app.layout = dbc.Container(card)\n",
    "app.run_server(port=3000)"
   ]
  },
  {
   "cell_type": "markdown",
   "metadata": {},
   "source": [
    "# Q2: Make dash that takes name input and outpt \"Welcome to Data Science dashboard {name}\""
   ]
  },
  {
   "cell_type": "code",
   "execution_count": null,
   "metadata": {},
   "outputs": [],
   "source": [
    "app.layout = html.Div([\n",
    "        #input\n",
    "        dbc.Input(type=\"text\",placeholder=\"Enter your name : \" , id= 'input'),\n",
    "        html.Br(),\n",
    "        #Submit\n",
    "        dbc.Button(\"Submit\", color=\"primary\", id='submit'),\n",
    "        html.Br(),\n",
    "        #output\n",
    "        dbc.Alert(id='output', color='success'),\n",
    "]\n",
    ")\n",
    "            \n",
    "@app.callback(\n",
    "    Output(\"output\", \"children\"), \n",
    "    [Input(\"submit\", \"n_clicks\")],\n",
    "    [State(\"input\", \"value\")]\n",
    ")\n",
    "\n",
    "def output_text(n_clicks, value):\n",
    "    if n_clicks is not None:\n",
    "        if value is not None:\n",
    "            return f\"Welcome to Data Science dashboard {value}\"\n",
    "    else:\n",
    "        return \"\" \n",
    "\n",
    "app.run_server(port=3001)"
   ]
  },
  {
   "cell_type": "markdown",
   "metadata": {},
   "source": [
    "# Q3: Make Plotly-Dash that takes two inputs (numbers) and output 3 numbers x, y , z= x+y\n",
    "- hint: use html.Div, dcc.Input(type='number')"
   ]
  },
  {
   "cell_type": "code",
   "execution_count": null,
   "metadata": {},
   "outputs": [],
   "source": [
    "app.layout = html.Div(\n",
    "    [\n",
    "        #first input \n",
    "        dbc.Input(type=\"number\",placeholder=\"Type the first number :\" , id= 'num1'),\n",
    "        html.Br(),\n",
    "        #second input \n",
    "        dbc.Input(type=\"number\",placeholder=\"Type the first number :\" , id= 'num2'),\n",
    "        html.Br(),\n",
    "        #submit \n",
    "        dbc.Button(\"Submit\", color=\"primary\", id='submit'),\n",
    "        html.Br(),\n",
    "        #output \n",
    "        dbc.Alert(id='output', color='success'),\n",
    "    ],)\n",
    "@app.callback(\n",
    "    Output(\"output\", \"children\"), \n",
    "    [Input('submit', \"n_clicks\")],\n",
    "    [State(\"num1\", \"value\"),\n",
    "    State(\"num2\", \"value\"),])\n",
    "def sum_calculate(n_clicks, num1, num2):\n",
    "    if n_clicks is not None:\n",
    "        if num1 is not None and num2 is not None:\n",
    "            z = num1 + num2 \n",
    "            return f\"The sum of {num1} and {num2} is {z}\"\n",
    "        else:\n",
    "            return \"Please enter the numbers\" \n",
    "    else:  \n",
    "        return \"Please enter the numbers\"\n",
    "app.run_server(port=3002)"
   ]
  },
  {
   "cell_type": "markdown",
   "metadata": {},
   "source": [
    "# Q4.1: Make JubyterDash with Rangeslider from 1-15 with 6 option"
   ]
  },
  {
   "cell_type": "code",
   "execution_count": null,
   "metadata": {},
   "outputs": [],
   "source": [
    "app.layout = html.Div(\n",
    "    [\n",
    "        #input\n",
    "        dcc.RangeSlider(1, 15, 3, value=[5, 15], id='range_slider'),\n",
    "        #output\n",
    "        html.Div(id='output')\n",
    "    ]\n",
    ")\n",
    "@app.callback(\n",
    "    Output(\"output\", \"children\"), \n",
    "    [Input('range_slider', \"value\")],\n",
    "    )\n",
    "def update_output(value):\n",
    "    return f\"You have select: {value} \"\n",
    "app.run_server(port=3003)"
   ]
  },
  {
   "cell_type": "markdown",
   "metadata": {},
   "source": [
    "# Q4.2: add to the previous dash: Label, set default value on rangeslider as 7-10"
   ]
  },
  {
   "cell_type": "code",
   "execution_count": null,
   "metadata": {},
   "outputs": [],
   "source": [
    "app.layout = html.Div(\n",
    "    [\n",
    "        #input\n",
    "        dcc.RangeSlider(1, 15, 3, value=[5, 15], id='range_slider',marks={\n",
    "        1: '10 Years',\n",
    "        3: '20 Years',\n",
    "        6: '30 Years',\n",
    "        9: '40 Years',\n",
    "        12: '50 Years',\n",
    "        15: '60 Years',\n",
    "    }),\n",
    "        #output\n",
    "        html.Div(id='output')\n",
    "    ]\n",
    ")\n",
    "@app.callback(\n",
    "    Output(\"output\", \"children\"), \n",
    "    [Input('range_slider', \"value\")],\n",
    "    )\n",
    "def update_output(value):\n",
    "    return f\"You have select: {value} \"\n",
    "app.run_server(port=3004)"
   ]
  },
  {
   "cell_type": "markdown",
   "metadata": {},
   "source": [
    "# Q5: Make 3 different Dcc types (Dropdown - Checkbox...) in one dash"
   ]
  },
  {
   "cell_type": "code",
   "execution_count": null,
   "metadata": {},
   "outputs": [],
   "source": [
    "first_card = dbc.Card(\n",
    "    dbc.CardBody(\n",
    "        [\n",
    "            #Title \n",
    "            html.H5(\"Dropdown\", className=\"card-title\"),\n",
    "            #Type1\n",
    "            dcc.Dropdown(['Riyadh', 'Khobar', 'Abha'], 'Abha', id='dropdown'),\n",
    "        ]\n",
    "    )\n",
    ")\n",
    "second_card = dbc.Card(\n",
    "    dbc.CardBody(\n",
    "        [\n",
    "            #Title \n",
    "            html.H5(\"Checkbox\", className=\"card-title\"),\n",
    "            #Type2\n",
    "            dcc.Checklist(\n",
    "            ['Sofware Engineer', 'Data Scientist', 'System Engineer'],\n",
    "            ['Data Scientist'] ),\n",
    "        ]\n",
    "    )\n",
    ")\n",
    "third_card = dbc.Card(\n",
    "    dbc.CardBody(\n",
    "        [\n",
    "            #Title \n",
    "            html.H5(\"RadioItems\", className=\"card-title\"),\n",
    "            #Type3\n",
    "            dcc.RadioItems(['Employe', 'Trainee','Student'], 'Employe'),\n",
    "        ]\n",
    "    )\n",
    ")\n",
    "cards = dbc.Row(\n",
    "    [\n",
    "        dbc.Col(first_card, width=4),\n",
    "        dbc.Col(second_card, width=4),\n",
    "        dbc.Col(third_card, width=4),\n",
    "    ]\n",
    ")\n",
    "app.layout = cards\n",
    "app.run_server(port=3005)"
   ]
  },
  {
   "cell_type": "markdown",
   "metadata": {},
   "source": [
    "# Q6: Make Plotly chart, then add it to a plotly_dash"
   ]
  },
  {
   "cell_type": "code",
   "execution_count": null,
   "metadata": {},
   "outputs": [],
   "source": [
    "y = random.sample(range(10, 50), 7)\n",
    "x = (\"ankit\", \"geeks\", \"computer\", \"science\",\"portal\", \"scientist\", \"btech\")\n",
    "size = random.sample(range(10, 50), 7)\n",
    "fig = px.scatter(x=x, y=y, size=size, color=y)\n",
    "\n",
    "app.layout = html.Div([\n",
    "    #garph\n",
    "    dcc.Graph(figure=fig)\n",
    "])\n",
    "\n",
    "app.run_server(port=3006)"
   ]
  },
  {
   "cell_type": "markdown",
   "metadata": {},
   "source": [
    "# Q7: From our data make plotly-dash with suitble chart, and Dropdown.\n",
    "\n",
    "- Dropdown should contain at least 3 options, each one represents different column.\n",
    "- Add label to dropdown.\n",
    "- The chart data should change depending on the selected dropdown option."
   ]
  },
  {
   "cell_type": "code",
   "execution_count": null,
   "metadata": {},
   "outputs": [],
   "source": [
    "import pandas as pd\n",
    "df = pd.read_csv(\"titanic passenger list.csv\")\n",
    "df"
   ]
  },
  {
   "cell_type": "code",
   "execution_count": null,
   "metadata": {},
   "outputs": [],
   "source": [
    "df2 = df[['sex','survived','age','pclass']]\n",
    "df2 = df2.dropna().reset_index(drop = True)\n",
    "df2"
   ]
  },
  {
   "cell_type": "code",
   "execution_count": null,
   "metadata": {},
   "outputs": [],
   "source": [
    "options = ['sex','survived','pclass']\n",
    "app.layout = html.Div([\n",
    "    \n",
    "    #dropdown\n",
    "    dcc.Dropdown(\n",
    "        id='drop-down',\n",
    "        options=[{'label':i , 'value':i} for i in options],\n",
    "        value ='sex'\n",
    "        ),\n",
    "    #garph\n",
    "    dcc.Graph(id='graph')   \n",
    "])\n",
    "\n",
    "@app.callback(\n",
    "    Output('graph', 'figure'),\n",
    "    Input('drop-down','value')\n",
    ")\n",
    "\n",
    "def update_graph(selected):\n",
    "    fig = px.scatter(df2, x='age',size='pclass',color = selected)\n",
    "    return fig\n",
    "\n",
    "app.run_server(port=3007)"
   ]
  },
  {
   "cell_type": "markdown",
   "metadata": {},
   "source": [
    "# Q8: add 2 more charts to the prevoius Ploty-Dash"
   ]
  },
  {
   "cell_type": "code",
   "execution_count": null,
   "metadata": {},
   "outputs": [],
   "source": [
    "options = ['sex','survived','pclass']\n",
    "first_card = dbc.Card(\n",
    "    dbc.CardBody(\n",
    "        [\n",
    "                #dropdown\n",
    "                dcc.Dropdown(\n",
    "                    id='drop-down',\n",
    "                    options=[{'label':i , 'value':i} for i in options],\n",
    "                    value ='sex'\n",
    "                    ),\n",
    "                #garph1\n",
    "                dcc.Graph(id='graph1'),\n",
    "        ]\n",
    "    )\n",
    ")\n",
    "\n",
    "second_card = dbc.Card(\n",
    "    dbc.CardBody(\n",
    "        [\n",
    "                #garph2\n",
    "                dcc.Graph(id='graph2')\n",
    "        ]\n",
    "    )\n",
    ")\n",
    "\n",
    "third_card = dbc.Card(\n",
    "    dbc.CardBody(\n",
    "        [\n",
    "                #garph3\n",
    "                dcc.Graph(id='graph3')\n",
    "        ]\n",
    "    )\n",
    ")\n",
    "\n",
    "\n",
    "@app.callback(\n",
    "    [Output('graph1', 'figure'),Output('graph2', 'figure'),Output('graph3', 'figure')],\n",
    "    Input('drop-down','value')\n",
    ")\n",
    "\n",
    "def update_graph(selected):\n",
    "    fig1 = px.scatter(df2, x='age',size='pclass',color = selected)\n",
    "    fig2 = px.histogram(df2, x='age', color=selected)\n",
    "    fig3 = px.bar(df2, x='sex',y='pclass',color='pclass',pattern_shape_sequence=[\".\", \"x\", \"+\"])\n",
    "    return fig1,fig2,fig3\n",
    "\n",
    "cards = html.Div([\n",
    "        dbc.Row(dbc.Col(first_card, width=12)),\n",
    "        dbc.Row(dbc.Col(second_card, width=12)),\n",
    "        dbc.Row(dbc.Col(third_card, width=12)),\n",
    "]\n",
    ")\n",
    "\n",
    "app.layout = dbc.Container(cards)\n",
    "app.run_server(port=3008)"
   ]
  },
  {
   "cell_type": "markdown",
   "metadata": {},
   "source": [
    "# Q9: Search for \"Plotly Gallery\" and fetch for a graph and use it with our data.\n",
    "\n",
    "- Note: You need to put the resourse addres of fetched your grapth."
   ]
  },
  {
   "cell_type": "code",
   "execution_count": null,
   "metadata": {},
   "outputs": [],
   "source": [
    "fig = px.parallel_categories(df2, color='pclass',color_continuous_scale=px.colors.sequential.Inferno)\n",
    "app.layout = html.Div([\n",
    "    #garph\n",
    "    dcc.Graph(figure=fig)\n",
    "])\n",
    "\n",
    "app.run_server(port=3009)"
   ]
  },
  {
   "cell_type": "markdown",
   "metadata": {},
   "source": [
    "- source: https://plotly.com/python/plotly-express/"
   ]
  }
 ],
 "metadata": {
  "kernelspec": {
   "display_name": "Python 3 (ipykernel)",
   "language": "python",
   "name": "python3"
  },
  "language_info": {
   "codemirror_mode": {
    "name": "ipython",
    "version": 3
   },
   "file_extension": ".py",
   "mimetype": "text/x-python",
   "name": "python",
   "nbconvert_exporter": "python",
   "pygments_lexer": "ipython3",
   "version": "3.9.12"
  }
 },
 "nbformat": 4,
 "nbformat_minor": 2
}
